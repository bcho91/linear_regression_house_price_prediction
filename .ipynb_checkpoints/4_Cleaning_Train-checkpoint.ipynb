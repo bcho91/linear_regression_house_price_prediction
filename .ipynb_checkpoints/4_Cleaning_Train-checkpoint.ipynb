{
 "cells": [
  {
   "cell_type": "markdown",
   "metadata": {},
   "source": [
    "# Test Data Preparation"
   ]
  },
  {
   "cell_type": "markdown",
   "metadata": {},
   "source": [
    "#### Import Libraries"
   ]
  },
  {
   "cell_type": "code",
   "execution_count": 1,
   "metadata": {},
   "outputs": [],
   "source": [
    "import pandas as pd\n",
    "import numpy as np\n",
    "import matplotlib.pyplot as plt\n",
    "import seaborn as sns\n",
    "\n",
    "from sklearn.linear_model import Lasso, LassoCV\n",
    "from sklearn.linear_model import RidgeCV\n",
    "from sklearn.linear_model import Ridge\n",
    "from sklearn.linear_model import LinearRegression\n",
    "from sklearn.model_selection import train_test_split, cross_val_score\n",
    "from sklearn.linear_model import Lasso, LassoCV\n",
    "from sklearn.preprocessing import PolynomialFeatures\n",
    "from sklearn.preprocessing import StandardScaler\n",
    "from sklearn.metrics import mean_squared_error\n",
    "\n",
    "from sklearn.linear_model import LinearRegression\n",
    "from sklearn import metrics\n",
    "from sklearn.model_selection import train_test_split, cross_val_score\n",
    "from sklearn.metrics import r2_score, mean_squared_error\n",
    "from sklearn.preprocessing import StandardScaler\n",
    "from sklearn.linear_model import Ridge"
   ]
  },
  {
   "cell_type": "markdown",
   "metadata": {},
   "source": [
    "**Read in data**"
   ]
  },
  {
   "cell_type": "code",
   "execution_count": 2,
   "metadata": {},
   "outputs": [],
   "source": [
    "test = pd.read_csv('datasets/test.csv')\n",
    "ames = pd.read_csv('./datasets/ames_v1.csv', keep_default_na=False)\n",
    "ames1 = pd.read_csv('datasets/amesv2.csv')\n",
    "test_id = test['Id'].to_frame()"
   ]
  },
  {
   "cell_type": "markdown",
   "metadata": {},
   "source": [
    "**Ensure predictors in the test data match train dataset**"
   ]
  },
  {
   "cell_type": "code",
   "execution_count": 3,
   "metadata": {},
   "outputs": [],
   "source": [
    "test.columns = test.columns.str.lower().str.replace(\" \",\"_\")\n",
    "test.drop(columns = ['pid','alley','misc_feature','mas_vnr_type'], inplace=True)"
   ]
  },
  {
   "cell_type": "markdown",
   "metadata": {},
   "source": [
    "**Apply same cleaning methods from train dataset to test data set**"
   ]
  },
  {
   "cell_type": "code",
   "execution_count": 4,
   "metadata": {},
   "outputs": [],
   "source": [
    "test.drop(columns=['pool_qc','fence'],inplace=True)\n",
    "\n",
    "test['bsmt_qual'].fillna(\"NA\",inplace=True)\n",
    "test['bsmt_cond'].fillna(\"NA\",inplace=True)\n",
    "test['bsmt_exposure'].fillna(\"NA\",inplace=True)\n",
    "test['bsmtfin_type_1'].fillna(\"NA\",inplace=True)\n",
    "test['bsmtfin_type_2'].fillna(\"NA\",inplace=True)\n",
    "test['garage_finish'].fillna(\"NA\",inplace=True)\n",
    "test['garage_qual'].fillna(\"NA\",inplace=True)\n",
    "test['garage_cond'].fillna('TA', inplace=True)\n",
    "test['fireplace_qu'].fillna(\"NA\",inplace=True)\n",
    "\n",
    "test.rename(columns = {'kitchen_abvgr':'kitchen'}, inplace=True)\n",
    "test.drop(columns = ['garage_yr_blt','mo_sold'], inplace=True)\n",
    "test['bsmt_full_bath'].fillna(0, inplace=True)\n",
    "test['bsmt_half_bath'].fillna(0, inplace=True)\n",
    "test['garage_cars'].fillna(0, inplace=True)\n",
    "test.drop(columns='misc_val', inplace=True)\n",
    "test['lot_frontage'].fillna(69, inplace=True)\n",
    "test['mas_vnr_area'].fillna(0, inplace=True)\n",
    "test['bsmtfin_sf_1'].fillna(0, inplace=True)\n",
    "test['bsmtfin_sf_2'].fillna(0, inplace=True)\n",
    "test['garage_area'].fillna(0, inplace=True)\n",
    "test['bsmt_unf_sf'].fillna(568, inplace=True)\n",
    "test['total_bsmt_sf'].fillna(1058, inplace=True)\n",
    "test['total_bath'] = test['bsmt_full_bath'] + test['bsmt_half_bath']*0.5 + test['full_bath'] + test['half_bath']*0.5\n",
    "test['extra_rms'] = test['totrms_abvgrd'] - test['kitchen'] - test['bedroom_abvgr']\n",
    "test['total_sf'] = test['total_bsmt_sf'] + test['gr_liv_area']\n",
    "test['porch_sf'] = test['screen_porch']+test['3ssn_porch']+test['enclosed_porch']+test['open_porch_sf']+test['wood_deck_sf']"
   ]
  },
  {
   "cell_type": "code",
   "execution_count": 5,
   "metadata": {},
   "outputs": [],
   "source": [
    "def binarize(col):\n",
    "    new_col = [int(1) if i > 1 else int(0) for i in col]\n",
    "    return new_col"
   ]
  },
  {
   "cell_type": "code",
   "execution_count": 6,
   "metadata": {},
   "outputs": [],
   "source": [
    "test['has_bsmt'] = binarize(test['total_bsmt_sf'])\n",
    "test['has_porch'] = binarize(test['porch_sf'])\n",
    "test['has_2fl'] = binarize(test['2nd_flr_sf'])\n",
    "test['has_garage'] = binarize(test['garage_area'])\n",
    "test['has_fireplace'] = binarize(test['fireplaces'])\n",
    "test['has_extrms'] = binarize(test['extra_rms'])\n",
    "test['total_sf'] = test['total_bsmt_sf'] + test['gr_liv_area']\n",
    "\n",
    "test.drop(columns=['screen_porch','3ssn_porch','enclosed_porch','open_porch_sf','wood_deck_sf','total_bsmt_sf','gr_liv_area','bsmtfin_sf_1','bsmtfin_sf_2','bsmt_unf_sf',\n",
    "                '1st_flr_sf','2nd_flr_sf','low_qual_fin_sf','totrms_abvgrd','bsmt_full_bath','bsmt_half_bath','full_bath','half_bath'], inplace=True)\n",
    "\n",
    "test.drop(columns = 'condition_2', inplace=True)\n",
    "test.drop(columns='roof_matl', inplace=True)\n",
    "test.drop(columns='exterior_1st', inplace=True)\n",
    "test.drop(columns='exterior_2nd', inplace=True)\n",
    "test.drop(columns='heating',inplace=True)\n",
    "test.drop(columns='pool_area', inplace=True)\n",
    "test.drop(columns='electrical', inplace=True)\n",
    "test.drop(columns = 'street',inplace=True)\n",
    "test.drop(columns = 'garage_qual', inplace=True)\n",
    "test.drop(columns = 'bsmt_exposure', inplace=True)\n",
    "test.drop(columns='sale_type',inplace=True)"
   ]
  },
  {
   "cell_type": "markdown",
   "metadata": {},
   "source": [
    "Dropped columns and that had differing values from the train data set."
   ]
  },
  {
   "cell_type": "code",
   "execution_count": 7,
   "metadata": {},
   "outputs": [],
   "source": [
    "test.drop(columns = 'bsmt_cond', inplace=True)\n",
    "test.drop(columns = 'bsmt_qual', inplace=True)\n",
    "test.drop(columns = ['bsmtfin_type_1', 'bsmtfin_type_2'], inplace=True)\n",
    "test.drop(columns = 'functional', inplace=True)\n",
    "test.drop(columns = 'fireplace_qu', inplace=True)\n",
    "test.drop(columns = 'heating_qc', inplace=True)\n",
    "test.drop(columns = 'utilities', inplace=True)\n",
    "test.drop(columns = 'garage_type', inplace=True)\n",
    "test.drop(columns = 'garage_finish', inplace=True)\n",
    "test.drop(columns = 'exter_cond', inplace=True)\n",
    "test.drop(columns = 'ms_zoning', inplace=True)"
   ]
  },
  {
   "cell_type": "markdown",
   "metadata": {},
   "source": [
    "Dropped columns from the pearson correlation matrix"
   ]
  },
  {
   "cell_type": "code",
   "execution_count": 8,
   "metadata": {},
   "outputs": [],
   "source": [
    "test.drop(columns = ['fireplaces','garage_area','year_built','overall_qual','has_garage','has_bsmt','overall_cond','extra_rms','year_remod/add'], inplace=True)"
   ]
  },
  {
   "cell_type": "code",
   "execution_count": 9,
   "metadata": {},
   "outputs": [],
   "source": [
    "#replaced inconsistent values with the training data with the mode of the testing data"
   ]
  },
  {
   "cell_type": "code",
   "execution_count": 10,
   "metadata": {},
   "outputs": [],
   "source": [
    "test['kitchen_qual'].replace('Po','TA', inplace=True)\n",
    "#test['bsmt_cond'].replace('Po','TA',inplace=True)\n",
    "#test['utilities'].replace('NoSewr','AllPub',inplace=True)\n",
    "#test['ms_zoning'].replace('I (all)','RL',inplace=True)\n",
    "#test['exter_cond'].replace('Po','TA',inplace=True)\n",
    "#test['bsmt_qual'].replace('Po','TA',inplace=True)\n",
    "#test['neighborhood'].replace('BrDale','NAmes',inplace=True)\n",
    "#test['ms_zoning'].replace('FV','RL',inplace=True)\n",
    "test['foundation'].replace('Slab','PConc',inplace=True)\n",
    "test['foundation'].replace('Wood','PConc',inplace=True) \n",
    "#test['garage_type'].replace('CarPort','Attchd',inplace=True)"
   ]
  },
  {
   "cell_type": "code",
   "execution_count": 11,
   "metadata": {},
   "outputs": [],
   "source": [
    "test.to_csv('datasets/test_clean.csv', index=False)"
   ]
  }
 ],
 "metadata": {
  "kernelspec": {
   "display_name": "Python 3",
   "language": "python",
   "name": "python3"
  },
  "language_info": {
   "codemirror_mode": {
    "name": "ipython",
    "version": 3
   },
   "file_extension": ".py",
   "mimetype": "text/x-python",
   "name": "python",
   "nbconvert_exporter": "python",
   "pygments_lexer": "ipython3",
   "version": "3.8.5"
  }
 },
 "nbformat": 4,
 "nbformat_minor": 4
}
