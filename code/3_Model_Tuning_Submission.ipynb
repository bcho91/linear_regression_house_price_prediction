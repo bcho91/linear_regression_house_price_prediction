{
 "cells": [
  {
   "cell_type": "markdown",
   "metadata": {},
   "source": [
    "# Model Tuning"
   ]
  },
  {
   "cell_type": "code",
   "execution_count": 1,
   "metadata": {},
   "outputs": [],
   "source": [
    "import pandas as pd\n",
    "import numpy as np\n",
    "import matplotlib.pyplot as plt\n",
    "import seaborn as sns\n",
    "\n",
    "from sklearn.linear_model import Lasso, LassoCV\n",
    "from sklearn.linear_model import RidgeCV\n",
    "from sklearn.linear_model import Ridge\n",
    "from sklearn.linear_model import LinearRegression\n",
    "from sklearn.model_selection import train_test_split, cross_val_score\n",
    "from sklearn.linear_model import Lasso, LassoCV\n",
    "from sklearn.preprocessing import PolynomialFeatures\n",
    "from sklearn.preprocessing import StandardScaler\n",
    "from sklearn.metrics import mean_squared_error\n",
    "\n",
    "from sklearn.linear_model import LinearRegression\n",
    "from sklearn import metrics\n",
    "from sklearn.model_selection import train_test_split, cross_val_score\n",
    "from sklearn.metrics import r2_score, mean_squared_error\n",
    "from sklearn.preprocessing import StandardScaler\n",
    "from sklearn.linear_model import Ridge"
   ]
  },
  {
   "cell_type": "code",
   "execution_count": 2,
   "metadata": {},
   "outputs": [],
   "source": [
    "ames = pd.read_csv('../datasets/ames_v1.csv', keep_default_na=False)\n",
    "ames1 = pd.read_csv('../datasets/amesv2.csv')"
   ]
  },
  {
   "cell_type": "markdown",
   "metadata": {},
   "source": [
    "## Initial OLS Model"
   ]
  },
  {
   "cell_type": "code",
   "execution_count": 3,
   "metadata": {},
   "outputs": [],
   "source": [
    "X = ames1\n",
    "y = np.log(ames['saleprice'])\n",
    "\n",
    "X_train, X_test, y_train, y_test = train_test_split(X, y, train_size=0.7,random_state=77)"
   ]
  },
  {
   "cell_type": "code",
   "execution_count": 4,
   "metadata": {},
   "outputs": [
    {
     "name": "stdout",
     "output_type": "stream",
     "text": [
      "0.8461452541116159\n",
      "0.9206428930274038\n",
      "0.8621985777386981\n"
     ]
    }
   ],
   "source": [
    "lr = LinearRegression()\n",
    "lr.fit(X_train,y_train)\n",
    "train_pred = lr.predict(X_train)\n",
    "test_pred = lr.predict(X_test)\n",
    "print(cross_val_score(lr, X, y, cv=5).mean())\n",
    "print(lr.score(X_train,y_train))\n",
    "print(lr.score(X_test,y_test))"
   ]
  },
  {
   "cell_type": "code",
   "execution_count": 5,
   "metadata": {},
   "outputs": [
    {
     "name": "stdout",
     "output_type": "stream",
     "text": [
      "Train MSE: 0.012128184374282612\n",
      "Train RMSE: 0.11012803627724692\n",
      "Train RMSE exp: 19867.57883620927\n",
      "\n",
      "Test MSE: 0.021809584590528973\n",
      "Test RMSE: 0.1476806845546464\n",
      "Test RMSE exp: 26369.70283862772\n"
     ]
    }
   ],
   "source": [
    "train_mse = mean_squared_error(y_true=y_train,y_pred=train_pred)\n",
    "train_rmse = mean_squared_error(y_true=y_train,y_pred=train_pred, squared = False)\n",
    "train_rmse_e = mean_squared_error(y_true=np.exp(y_train),y_pred=np.exp(train_pred), squared = False)\n",
    "\n",
    "test_mse = mean_squared_error(y_true=y_test,y_pred=test_pred)\n",
    "test_rmse = mean_squared_error(y_true=y_test,y_pred=test_pred, squared = False)\n",
    "test_rmse_e = mean_squared_error(y_true=np.exp(y_test),y_pred=np.exp(test_pred), squared = False)\n",
    "\n",
    "print(f'Train MSE: {train_mse}')\n",
    "print(f'Train RMSE: {train_rmse}')\n",
    "print(f'Train RMSE exp: {train_rmse_e}')\n",
    "print()\n",
    "print(f'Test MSE: {test_mse}')\n",
    "print(f'Test RMSE: {test_rmse}')\n",
    "print(f'Test RMSE exp: {test_rmse_e}')"
   ]
  },
  {
   "cell_type": "code",
   "execution_count": 6,
   "metadata": {},
   "outputs": [],
   "source": [
    "sc = StandardScaler()\n",
    "Z_train = sc.fit_transform(X_train)\n",
    "Z_test = sc.transform(X_test)"
   ]
  },
  {
   "cell_type": "code",
   "execution_count": 7,
   "metadata": {},
   "outputs": [
    {
     "data": {
      "text/plain": [
       "LinearRegression()"
      ]
     },
     "execution_count": 7,
     "metadata": {},
     "output_type": "execute_result"
    }
   ],
   "source": [
    "lr_sc = LinearRegression()\n",
    "lr_sc.fit(Z_train,y_train)"
   ]
  },
  {
   "cell_type": "code",
   "execution_count": 8,
   "metadata": {},
   "outputs": [
    {
     "name": "stdout",
     "output_type": "stream",
     "text": [
      "Baseline R2 score: 0.8461452541116159\n",
      "Train R2 Score: 0.9206428930278018\n",
      "Testing R2 Score: 0.8621985776497884\n"
     ]
    }
   ],
   "source": [
    "print(f'Baseline R2 score: {cross_val_score(lr_sc,X,y).mean()}')\n",
    "print(f'Train R2 Score: {lr_sc.score(Z_train,y_train)}')\n",
    "print(f'Testing R2 Score: {lr_sc.score(Z_test,y_test)}')"
   ]
  },
  {
   "cell_type": "markdown",
   "metadata": {},
   "source": [
    "## Ridge Regression  \n",
    "\n",
    "Using the Ridge Regression, our train R2 score became 91.6% and the test score became 87.9%. There was a better bias-variance trade off compared to the original OLS model."
   ]
  },
  {
   "cell_type": "code",
   "execution_count": 9,
   "metadata": {},
   "outputs": [
    {
     "name": "stdout",
     "output_type": "stream",
     "text": [
      "0.916635693043739\n",
      "0.878658536424019\n"
     ]
    }
   ],
   "source": [
    "ridge_model = Ridge(alpha = 10)\n",
    "ridge_model.fit(Z_train, y_train)\n",
    "\n",
    "print(ridge_model.score(Z_train, y_train))\n",
    "print(ridge_model.score(Z_test, y_test))"
   ]
  },
  {
   "cell_type": "code",
   "execution_count": 10,
   "metadata": {},
   "outputs": [
    {
     "data": {
      "text/plain": [
       "RidgeCV(alphas=array([1.00000000e-04, 1.00926219e-04, 1.01861017e-04, 1.02804473e-04,\n",
       "       1.03756668e-04, 1.04717682e-04, 1.05687597e-04, 1.06666496e-04,\n",
       "       1.07654461e-04, 1.08651577e-04, 1.09657929e-04, 1.10673602e-04,\n",
       "       1.11698682e-04, 1.12733256e-04, 1.13777413e-04, 1.14831241e-04,\n",
       "       1.15894830e-04, 1.16968270e-04, 1.18051653e-04, 1.19145070e-04,\n",
       "       1.20248614e-04, 1.21362380e-0...\n",
       "       8.08924349e-01, 8.16416760e-01, 8.23978568e-01, 8.31610415e-01,\n",
       "       8.39312950e-01, 8.47086827e-01, 8.54932707e-01, 8.62851257e-01,\n",
       "       8.70843150e-01, 8.78909065e-01, 8.87049689e-01, 8.95265713e-01,\n",
       "       9.03557835e-01, 9.11926760e-01, 9.20373200e-01, 9.28897872e-01,\n",
       "       9.37501502e-01, 9.46184819e-01, 9.54948564e-01, 9.63793480e-01,\n",
       "       9.72720319e-01, 9.81729841e-01, 9.90822810e-01, 1.00000000e+00]),\n",
       "        cv=5, scoring='r2')"
      ]
     },
     "execution_count": 10,
     "metadata": {},
     "output_type": "execute_result"
    }
   ],
   "source": [
    "ridge_alphas = np.logspace(-4,0,1000)\n",
    "\n",
    "ridge_cv = RidgeCV(alphas = ridge_alphas, scoring='r2', cv=5)\n",
    "\n",
    "ridge_cv.fit(Z_train, y_train)"
   ]
  },
  {
   "cell_type": "code",
   "execution_count": 11,
   "metadata": {},
   "outputs": [
    {
     "name": "stdout",
     "output_type": "stream",
     "text": [
      "Ridge Alpha: 1.0\n",
      "Ridge Train R2: 0.9193258189438992\n",
      "Train MSE: 0.012329473432423903\n",
      "Train RMSE: 0.1110381620544212\n",
      "Train exp RMSE: 19866.72346755808\n",
      "\n",
      "Test RMSE: 0.1417285830453398\n",
      "Ridge Test R2: 0.8730825911886718\n",
      "Test MSE: 0.02008699125203978\n",
      "Test RMSE: 0.1417285830453398\n",
      "Test exp RMSE: 25848.846413151197\n"
     ]
    }
   ],
   "source": [
    "r_train_pred = ridge_cv.predict(Z_train)\n",
    "r_test_pred = ridge_cv.predict(Z_test)\n",
    "\n",
    "# Calculating metrics for the scaled train data\n",
    "r_alpha = ridge_cv.alpha_\n",
    "\n",
    "\n",
    "#ridge train metrics\n",
    "r_train_score = ridge_cv.score(Z_train, y_train)\n",
    "mse_train = metrics.mean_squared_error(y_train, r_train_pred)\n",
    "rmse_train = metrics.mean_squared_error(y_train, r_train_pred, squared=False)\n",
    "exp_train_rmse = metrics.mean_squared_error(np.exp(y_train), np.exp(r_train_pred), squared=False)\n",
    "#ridge test metrics\n",
    "r_test_score = ridge_cv.score(Z_test, y_test)\n",
    "mse_test = metrics.mean_squared_error(y_test, r_test_pred)\n",
    "rmse_test = metrics.mean_squared_error(y_test, r_test_pred, squared=False)\n",
    "exp_test_rmse = metrics.mean_squared_error(np.exp(y_test), np.exp(r_test_pred), squared=False)\n",
    "\n",
    "\n",
    "print(f'Ridge Alpha: {r_alpha}')\n",
    "print(f'Ridge Train R2: {r_train_score}')\n",
    "print(f'Train MSE: {mse_train}')\n",
    "print(f'Train RMSE: {rmse_train}')\n",
    "print(f'Train exp RMSE: {exp_train_rmse}')\n",
    "print()\n",
    "print(f'Test RMSE: {rmse_test}')\n",
    "print(f'Ridge Test R2: {r_test_score}')\n",
    "print(f'Test MSE: {mse_test}')\n",
    "print(f'Test RMSE: {rmse_test}')\n",
    "print(f'Test exp RMSE: {exp_test_rmse}')"
   ]
  },
  {
   "cell_type": "markdown",
   "metadata": {},
   "source": [
    "**The Ridge regression holds the normality (of residuals) assumpion**"
   ]
  },
  {
   "cell_type": "code",
   "execution_count": 12,
   "metadata": {},
   "outputs": [
    {
     "data": {
      "image/png": "[encoded data removed]",
      "text/plain": [
       "<Figure size 720x576 with 1 Axes>"
      ]
     },
     "metadata": {
      "needs_background": "light"
     },
     "output_type": "display_data"
    }
   ],
   "source": [
    "plt.figure(figsize=(10,8))\n",
    "ridge_resids = y_test - ridge_cv.predict(Z_test)\n",
    "sns.histplot(ridge_resids, bins=20)\n",
    "plt.title('Normally Distributed Residuals');"
   ]
  },
  {
   "cell_type": "markdown",
   "metadata": {},
   "source": [
    "**Ridge Regression: Homoscedasticity of Errors**"
   ]
  },
  {
   "cell_type": "code",
   "execution_count": 13,
   "metadata": {},
   "outputs": [
    {
     "data": {
      "image/png": "[encoded data removed]",
      "text/plain": [
       "<Figure size 720x576 with 1 Axes>"
      ]
     },
     "metadata": {
      "needs_background": "light"
     },
     "output_type": "display_data"
    }
   ],
   "source": [
    "plt.figure(figsize=(10,8))\n",
    "sns.scatterplot(x=ridge_cv.predict(Z_test), y=ridge_resids)\n",
    "plt.axhline(0, color='red')\n",
    "plt.title('Homoscedasticity of Errors');"
   ]
  },
  {
   "cell_type": "markdown",
   "metadata": {},
   "source": [
    "### Lasso Regression"
   ]
  },
  {
   "cell_type": "code",
   "execution_count": 14,
   "metadata": {},
   "outputs": [
    {
     "data": {
      "text/plain": [
       "LassoCV(alphas=array([0.001     , 0.00100346, 0.00100694, ..., 0.99311262, 0.99655036,\n",
       "       1.        ]),\n",
       "        cv=5)"
      ]
     },
     "execution_count": 14,
     "metadata": {},
     "output_type": "execute_result"
    }
   ],
   "source": [
    "lasso_alphas = np.logspace(-3,0,2000)\n",
    "    \n",
    "lasso_cv = LassoCV(alphas = lasso_alphas, cv=5)\n",
    "    \n",
    "lasso_cv.fit(Z_train, y_train)"
   ]
  },
  {
   "cell_type": "code",
   "execution_count": 15,
   "metadata": {},
   "outputs": [
    {
     "name": "stdout",
     "output_type": "stream",
     "text": [
      "Lasso Alpha: 0.001\n",
      "Lasso Train R2: 0.9084437209607186\n",
      "Train MSE: 0.013992589639074422\n",
      "Train RMSE: 0.11829027702678872\n",
      "Train Exp RMSE: 21159.382039657663\n",
      "\n",
      "Lasso RMSE: 0.11829027702678872\n",
      "Lasso Test R2: 0.8730825911886718\n",
      "Test MSE: 0.019051412716267608\n",
      "Test RMSE: 0.13802685505461468\n",
      "Test Exp RMSE: 25373.51122455786\n"
     ]
    }
   ],
   "source": [
    "l_train_preds = lasso_cv.predict(Z_train)\n",
    "l_test_preds = lasso_cv.predict(Z_test)\n",
    "\n",
    "l_alpha = lasso_cv.alpha_\n",
    "l_train_score = lasso_cv.score(Z_train, y_train)\n",
    "l_test_score = lasso_cv.score(Z_test, y_test)\n",
    "\n",
    "mse_train = metrics.mean_squared_error(y_train, l_train_preds)\n",
    "mse_test = metrics.mean_squared_error(y_test, l_test_preds)\n",
    "\n",
    "rmse_train = metrics.mean_squared_error(y_train, l_train_preds, squared=False)\n",
    "exp_rmse_trn = metrics.mean_squared_error(np.exp(y_train), np.exp(l_train_preds), squared=False)\n",
    "rmse_test = metrics.mean_squared_error(y_test, l_test_preds, squared=False)\n",
    "exp_rmse_tst = metrics.mean_squared_error(np.exp(y_test), np.exp(l_test_preds), squared=False)\n",
    "\n",
    "print(f'Lasso Alpha: {l_alpha}')\n",
    "print(f'Lasso Train R2: {l_train_score}')\n",
    "print(f'Train MSE: {mse_train}')\n",
    "print(f'Train RMSE: {rmse_train}')\n",
    "print(f'Train Exp RMSE: {exp_rmse_trn}')\n",
    "print()\n",
    "print(f'Lasso RMSE: {rmse_train}')\n",
    "print(f'Lasso Test R2: {r_test_score}')\n",
    "print(f'Test MSE: {mse_test}')\n",
    "print(f'Test RMSE: {rmse_test}')\n",
    "print(f'Test Exp RMSE: {exp_rmse_tst}')"
   ]
  },
  {
   "cell_type": "markdown",
   "metadata": {},
   "source": [
    "**The LASSO regression model shows the normality of residuals**"
   ]
  },
  {
   "cell_type": "code",
   "execution_count": 16,
   "metadata": {},
   "outputs": [
    {
     "data": {
      "image/png": "[encoded data removed]",
      "text/plain": [
       "<Figure size 720x576 with 1 Axes>"
      ]
     },
     "metadata": {
      "needs_background": "light"
     },
     "output_type": "display_data"
    }
   ],
   "source": [
    "plt.figure(figsize=(10,8))\n",
    "resids = y_test - lasso_cv.predict(Z_test)\n",
    "sns.histplot(resids, bins=20)\n",
    "plt.title('Normally Distributed Residuals');"
   ]
  },
  {
   "cell_type": "markdown",
   "metadata": {},
   "source": [
    "**The scatterplot below shows the equal variances (of residuals)**"
   ]
  },
  {
   "cell_type": "code",
   "execution_count": 17,
   "metadata": {},
   "outputs": [
    {
     "data": {
      "image/png": "[encoded data removed]",
      "text/plain": [
       "<Figure size 720x576 with 1 Axes>"
      ]
     },
     "metadata": {
      "needs_background": "light"
     },
     "output_type": "display_data"
    }
   ],
   "source": [
    "plt.figure(figsize=(10,8))\n",
    "sns.scatterplot(x=lasso_cv.predict(Z_test), y=resids)\n",
    "plt.axhline(0, color='red')\n",
    "plt.title('Homoscedasticity of Errors');"
   ]
  },
  {
   "cell_type": "markdown",
   "metadata": {},
   "source": [
    "The coefficients listed below signify the change in the log saleprice with one unit change for the predictor variable with every variable held constant. "
   ]
  },
  {
   "cell_type": "code",
   "execution_count": 18,
   "metadata": {},
   "outputs": [
    {
     "data": {
      "text/plain": [
       "array([ 0.00000000e+00,  0.00000000e+00,  1.55282013e-02,  0.00000000e+00,\n",
       "       -0.00000000e+00, -6.57423674e-03,  9.30773529e-03, -5.95382867e-03,\n",
       "        3.89557926e-02,  1.33940794e-01,  0.00000000e+00,  5.33877552e-03,\n",
       "       -0.00000000e+00,  2.10828085e-02,  1.22032553e-02, -0.00000000e+00,\n",
       "        0.00000000e+00,  0.00000000e+00, -0.00000000e+00,  1.20502042e-02,\n",
       "        0.00000000e+00, -4.19371213e-02,  0.00000000e+00, -0.00000000e+00,\n",
       "        2.38051575e-03,  1.32612947e-02,  0.00000000e+00, -7.29544184e-03,\n",
       "        0.00000000e+00,  0.00000000e+00, -6.73813812e-04,  0.00000000e+00,\n",
       "        0.00000000e+00,  0.00000000e+00, -0.00000000e+00,  2.35159571e-02,\n",
       "        0.00000000e+00,  0.00000000e+00, -0.00000000e+00,  0.00000000e+00,\n",
       "        0.00000000e+00,  1.67578221e-02,  0.00000000e+00,  1.49898980e-03,\n",
       "       -1.23069495e-02,  0.00000000e+00, -0.00000000e+00, -0.00000000e+00,\n",
       "        0.00000000e+00,  9.82397107e-03, -0.00000000e+00, -0.00000000e+00,\n",
       "        0.00000000e+00,  0.00000000e+00,  0.00000000e+00, -0.00000000e+00,\n",
       "       -0.00000000e+00, -0.00000000e+00, -0.00000000e+00,  0.00000000e+00,\n",
       "        1.36989758e-02,  0.00000000e+00,  0.00000000e+00,  0.00000000e+00,\n",
       "       -1.11725204e-03,  0.00000000e+00, -0.00000000e+00, -1.06956130e-03,\n",
       "        0.00000000e+00,  0.00000000e+00, -0.00000000e+00, -0.00000000e+00,\n",
       "       -0.00000000e+00, -2.69240211e-02, -0.00000000e+00, -0.00000000e+00,\n",
       "       -0.00000000e+00,  3.02875513e-02, -0.00000000e+00, -0.00000000e+00,\n",
       "       -2.13101847e-02, -3.28920384e-03, -1.83081006e-04,  0.00000000e+00,\n",
       "       -0.00000000e+00,  6.86337329e-04, -0.00000000e+00, -0.00000000e+00,\n",
       "        0.00000000e+00,  0.00000000e+00, -0.00000000e+00,  7.85900632e-03,\n",
       "        4.96819137e-02,  0.00000000e+00,  2.85657072e-03, -0.00000000e+00,\n",
       "       -1.26733827e-02,  1.19231466e-02, -0.00000000e+00, -1.85095107e-04,\n",
       "        5.80602398e-04,  1.40790464e-04,  0.00000000e+00,  7.88981245e-04,\n",
       "       -0.00000000e+00,  8.33574295e-05,  0.00000000e+00,  0.00000000e+00,\n",
       "        0.00000000e+00,  0.00000000e+00,  0.00000000e+00, -2.00945908e-03,\n",
       "       -2.30323204e-02,  0.00000000e+00,  0.00000000e+00,  9.93734883e-03,\n",
       "        0.00000000e+00,  0.00000000e+00, -0.00000000e+00,  0.00000000e+00,\n",
       "       -6.40225640e-03,  0.00000000e+00, -0.00000000e+00, -0.00000000e+00,\n",
       "        2.52033278e-03,  0.00000000e+00, -2.97923543e-03,  0.00000000e+00,\n",
       "        0.00000000e+00, -0.00000000e+00,  6.74718459e-04, -4.98942242e-03,\n",
       "        0.00000000e+00,  0.00000000e+00,  0.00000000e+00,  5.30508944e-04,\n",
       "       -4.93769201e-05,  0.00000000e+00,  1.61369804e-02,  0.00000000e+00,\n",
       "        7.39794578e-03,  1.42147449e-02, -3.85451292e-04, -3.01244795e-03,\n",
       "        4.86105222e-03,  2.71576489e-03,  1.96215993e-03,  3.77579026e-03,\n",
       "       -8.99364553e-03, -7.34499190e-03,  0.00000000e+00,  0.00000000e+00,\n",
       "        1.60353394e-02, -2.05827718e-02, -1.85122237e-03,  6.21811253e-03,\n",
       "       -2.57939802e-02, -2.60898136e-02,  3.67471550e-04, -8.70117402e-03,\n",
       "        5.26069965e-03, -1.84313650e-03,  2.64500013e-03,  1.59344152e-02,\n",
       "       -3.18052886e-02, -6.14480098e-03, -7.69695036e-04, -8.35721698e-03,\n",
       "        1.98398031e-02,  9.69513094e-03,  5.64830613e-03,  5.63004338e-03,\n",
       "       -0.00000000e+00,  7.43842705e-03,  7.06793672e-03,  3.16388781e-03,\n",
       "       -7.55805289e-03,  1.88367939e-03,  0.00000000e+00, -4.62197716e-03,\n",
       "        5.44432119e-03, -0.00000000e+00, -7.70265609e-03,  5.99676754e-04,\n",
       "        2.52587454e-03,  0.00000000e+00,  4.99698697e-03,  1.35614937e-02,\n",
       "        1.03483602e-02,  8.06997276e-03,  1.15874232e-02, -4.91197845e-03,\n",
       "        2.57404001e-03,  0.00000000e+00, -3.46461314e-03,  3.45107775e-03,\n",
       "       -2.76165603e-02, -2.77099852e-02, -5.90703406e-02,  6.55957775e-03,\n",
       "        2.84109415e-02,  5.08429156e-04,  2.72778817e-02, -3.18260690e-02,\n",
       "       -4.47617530e-02, -7.57024735e-02, -7.19175774e-03,  4.32162229e-03,\n",
       "       -2.59882185e-03, -0.00000000e+00,  3.68991121e-03,  3.04947427e-02])"
      ]
     },
     "execution_count": 18,
     "metadata": {},
     "output_type": "execute_result"
    }
   ],
   "source": [
    "lasso_cv.coef_"
   ]
  },
  {
   "cell_type": "code",
   "execution_count": 19,
   "metadata": {},
   "outputs": [],
   "source": [
    "#learned this function from Ani during the hackathon\n",
    "\n",
    "variable, coef = (X.columns, np.round(lasso_cv.coef_, 3))\n",
    "lasso_coef = pd.DataFrame(data = {\"variable\": variable, \"coef\": coef})\n",
    "lasso_coef = lasso_coef[lasso_coef['coef'] !=0]\n",
    "lasso_coef.sort_values(by = \"coef\", ascending = False)\n",
    "lasso_coef = lasso_coef.sort_values(by = \"coef\", ascending = False)\n",
    "lasso_coef\n",
    "lasso_coef.to_csv('../datasets/coef.csv', index=False)"
   ]
  },
  {
   "cell_type": "code",
   "execution_count": 20,
   "metadata": {},
   "outputs": [
    {
     "data": {
      "text/html": [
       "<div>\n",
       "<style scoped>\n",
       "    .dataframe tbody tr th:only-of-type {\n",
       "        vertical-align: middle;\n",
       "    }\n",
       "\n",
       "    .dataframe tbody tr th {\n",
       "        vertical-align: top;\n",
       "    }\n",
       "\n",
       "    .dataframe thead th {\n",
       "        text-align: right;\n",
       "    }\n",
       "</style>\n",
       "<table border=\"1\" class=\"dataframe\">\n",
       "  <thead>\n",
       "    <tr style=\"text-align: right;\">\n",
       "      <th></th>\n",
       "      <th>variable</th>\n",
       "    </tr>\n",
       "  </thead>\n",
       "  <tbody>\n",
       "    <tr>\n",
       "      <th>9</th>\n",
       "      <td>total_sf</td>\n",
       "    </tr>\n",
       "    <tr>\n",
       "      <th>92</th>\n",
       "      <td>garage_cars total_bath</td>\n",
       "    </tr>\n",
       "    <tr>\n",
       "      <th>8</th>\n",
       "      <td>total_bath</td>\n",
       "    </tr>\n",
       "    <tr>\n",
       "      <th>211</th>\n",
       "      <td>paved_drive_Y</td>\n",
       "    </tr>\n",
       "    <tr>\n",
       "      <th>77</th>\n",
       "      <td>bedroom_abvgr has_2fl</td>\n",
       "    </tr>\n",
       "    <tr>\n",
       "      <th>...</th>\n",
       "      <td>...</td>\n",
       "    </tr>\n",
       "    <tr>\n",
       "      <th>164</th>\n",
       "      <td>neighborhood_OldTown</td>\n",
       "    </tr>\n",
       "    <tr>\n",
       "      <th>21</th>\n",
       "      <td>ms_subclass garage_cars</td>\n",
       "    </tr>\n",
       "    <tr>\n",
       "      <th>204</th>\n",
       "      <td>kitchen_qual_Gd</td>\n",
       "    </tr>\n",
       "    <tr>\n",
       "      <th>198</th>\n",
       "      <td>exter_qual_TA</td>\n",
       "    </tr>\n",
       "    <tr>\n",
       "      <th>205</th>\n",
       "      <td>kitchen_qual_TA</td>\n",
       "    </tr>\n",
       "  </tbody>\n",
       "</table>\n",
       "<p>107 rows × 1 columns</p>\n",
       "</div>"
      ],
      "text/plain": [
       "                    variable\n",
       "9                   total_sf\n",
       "92    garage_cars total_bath\n",
       "8                 total_bath\n",
       "211            paved_drive_Y\n",
       "77     bedroom_abvgr has_2fl\n",
       "..                       ...\n",
       "164     neighborhood_OldTown\n",
       "21   ms_subclass garage_cars\n",
       "204          kitchen_qual_Gd\n",
       "198            exter_qual_TA\n",
       "205          kitchen_qual_TA\n",
       "\n",
       "[107 rows x 1 columns]"
      ]
     },
     "execution_count": 20,
     "metadata": {},
     "output_type": "execute_result"
    }
   ],
   "source": [
    "#this are the optimized features after the lasso regression\n",
    "features = lasso_coef[['variable']]\n",
    "features"
   ]
  },
  {
   "cell_type": "markdown",
   "metadata": {},
   "source": [
    "# Conclusion and Recommendations"
   ]
  },
  {
   "cell_type": "markdown",
   "metadata": {},
   "source": [
    "The best model to predict home sale prices in Ames, Iowa was the Ridge model. This model had the best bias-variance tradeoff with a mean train RMSE of 19866 and a mean test RMSE of 25848. The R2 scores show that our variance in our predictions can be explained by 90% in our train dataset and 87% in our test dataset.  \n",
    "\n",
    "The Pearson correlation matrix was utilized to filter dependence among the numerical predictor variables. High coefficients within variables in the Pearson correlation analysis were removed. The distribution of the target variable (Sale Price of Homes) were not normally distributed. A log transformation of the target variable had to be conducted in order to have a normal distribution of our target variable. After creating an initial model, the Ridge and LASSO regularization methods were utilized to provide a better bias-variance trade off.\n",
    "\n",
    "The model will be useful for real estate agents and home sellers/buyers as they evaluate their home values against other homes in Ames, Iowa. The model does better than the baseline model of seeing the average home prices. The baseline model had approximately 80000 in mean error compared to the LASSO model which had a mean error of 23000 in sale price prediction.\n",
    "\n",
    "**Recommendations**  \n",
    "\n",
    "Even with the Ridge model, there is still evidence that the model is overfit. In order to move this project forward, one can reduce complexity by reducing the number of categorical features that were selected in the model. A Spearman correlation analysis can be used to reduce the complexity in the model. The coefficients of the predictor variables could have been analyzed in the initial OLS model to take out any variables that didn't have a strong correlation in predicting the sale price.   "
   ]
  },
  {
   "cell_type": "code",
   "execution_count": 21,
   "metadata": {},
   "outputs": [],
   "source": [
    "#Spearman correlation analysis: https://en.wikipedia.org/wiki/Spearman%27s_rank_correlation_coefficient"
   ]
  },
  {
   "cell_type": "markdown",
   "metadata": {},
   "source": [
    "### Kaggle Submission: Read in Test Data"
   ]
  },
  {
   "cell_type": "code",
   "execution_count": 22,
   "metadata": {},
   "outputs": [],
   "source": [
    "test = pd.read_csv('../datasets/test_clean.csv')"
   ]
  },
  {
   "cell_type": "code",
   "execution_count": 23,
   "metadata": {},
   "outputs": [],
   "source": [
    "test_id = test['id'].to_frame()\n",
    "test.drop(columns = 'id', inplace=True)"
   ]
  },
  {
   "cell_type": "code",
   "execution_count": 24,
   "metadata": {},
   "outputs": [],
   "source": [
    "#have train columns match test columns\n",
    "numerics = ['int16', 'int32', 'int64', 'float16', 'float32', 'float64']\n",
    "category = ['object']\n",
    "df_num = test.select_dtypes(include=numerics)\n",
    "df_cat = test.select_dtypes(include=category)\n",
    "n_vars = df_num.columns\n",
    "c_vars = df_cat.columns"
   ]
  },
  {
   "cell_type": "code",
   "execution_count": 25,
   "metadata": {},
   "outputs": [],
   "source": [
    "#dummify test categories\n",
    "test_d = pd.get_dummies(test[c_vars], columns = c_vars, drop_first=True)"
   ]
  },
  {
   "cell_type": "code",
   "execution_count": 26,
   "metadata": {},
   "outputs": [],
   "source": [
    "#set polynomial features in test df\n",
    "features = test[n_vars].columns\n",
    "X = test[features]\n",
    "poly = PolynomialFeatures(degree = 2, include_bias=False)\n",
    "X_poly = poly.fit_transform(X)"
   ]
  },
  {
   "cell_type": "code",
   "execution_count": 27,
   "metadata": {},
   "outputs": [],
   "source": [
    "X_poly_df = pd.DataFrame(X_poly, columns = poly.get_feature_names(features))"
   ]
  },
  {
   "cell_type": "code",
   "execution_count": 28,
   "metadata": {},
   "outputs": [],
   "source": [
    "#combine test category dummies and polynomial features\n",
    "test1 = pd.concat([X_poly_df, test_d],axis=1)"
   ]
  },
  {
   "cell_type": "markdown",
   "metadata": {},
   "source": [
    "Ensure train and test data sets match"
   ]
  },
  {
   "cell_type": "code",
   "execution_count": 29,
   "metadata": {},
   "outputs": [
    {
     "data": {
      "text/plain": [
       "set()"
      ]
     },
     "execution_count": 29,
     "metadata": {},
     "output_type": "execute_result"
    }
   ],
   "source": [
    "missing_cols = set(test1.columns) - set(ames1.columns)\n",
    "missing_cols"
   ]
  },
  {
   "cell_type": "code",
   "execution_count": 30,
   "metadata": {},
   "outputs": [
    {
     "data": {
      "text/plain": [
       "set()"
      ]
     },
     "execution_count": 30,
     "metadata": {},
     "output_type": "execute_result"
    }
   ],
   "source": [
    "missing_cols = set(ames1.columns) - set(test1.columns)\n",
    "missing_cols"
   ]
  },
  {
   "cell_type": "code",
   "execution_count": 31,
   "metadata": {},
   "outputs": [
    {
     "data": {
      "text/plain": [
       "(878, 212)"
      ]
     },
     "execution_count": 31,
     "metadata": {},
     "output_type": "execute_result"
    }
   ],
   "source": [
    "test1.shape"
   ]
  },
  {
   "cell_type": "code",
   "execution_count": 32,
   "metadata": {},
   "outputs": [
    {
     "data": {
      "text/plain": [
       "(2000, 212)"
      ]
     },
     "execution_count": 32,
     "metadata": {},
     "output_type": "execute_result"
    }
   ],
   "source": [
    "ames1.shape"
   ]
  },
  {
   "cell_type": "code",
   "execution_count": 33,
   "metadata": {},
   "outputs": [
    {
     "data": {
      "text/plain": [
       "12.039194125213402"
      ]
     },
     "execution_count": 33,
     "metadata": {},
     "output_type": "execute_result"
    }
   ],
   "source": [
    "#test set is now cleaned set model\n",
    "\n",
    "X = ames1\n",
    "y = np.log(ames['saleprice'])\n",
    "\n",
    "lr=LinearRegression()\n",
    "lr.fit(X,y)\n",
    "\n",
    "train_pred = lr.predict(X)\n",
    "train_pred.mean()"
   ]
  },
  {
   "cell_type": "code",
   "execution_count": 34,
   "metadata": {},
   "outputs": [
    {
     "data": {
      "text/plain": [
       "2.4865035216988325"
      ]
     },
     "execution_count": 34,
     "metadata": {},
     "output_type": "execute_result"
    }
   ],
   "source": [
    "test_pred = lr.predict(test1)\n",
    "np.log(test_pred.mean())"
   ]
  },
  {
   "cell_type": "code",
   "execution_count": 36,
   "metadata": {},
   "outputs": [
    {
     "name": "stdout",
     "output_type": "stream",
     "text": [
      "0.9120244143911261\n",
      "Ridge Alpha: 1.0\n",
      "Ridge Train R2: 0.9135383607805322\n",
      "Train MSE: 0.013361230010269\n",
      "Train RMSE: 0.11559078687451262\n",
      "Train exp RMSE: 20775.45133801725\n"
     ]
    }
   ],
   "source": [
    "X = ames1\n",
    "y = np.log(ames['saleprice'])\n",
    "\n",
    "sc = StandardScaler()\n",
    "Z_train = sc.fit_transform(X)\n",
    "Z_test = sc.transform(test1)\n",
    "\n",
    "ridge_model = Ridge(alpha = 10)\n",
    "ridge_model.fit(Z_train, y)\n",
    "\n",
    "print(ridge_model.score(Z_train, y))\n",
    "\n",
    "ridge_alphas = np.logspace(-4,0,1000)\n",
    "\n",
    "ridge_cv = RidgeCV(alphas = ridge_alphas, scoring='r2', cv=5)\n",
    "\n",
    "ridge_cv.fit(Z_train, y)\n",
    "\n",
    "r_train_pred = ridge_cv.predict(Z_train)\n",
    "r_test_pred = ridge_cv.predict(Z_test)\n",
    "\n",
    "# Calculating metrics for the scaled train data\n",
    "r_alpha = ridge_cv.alpha_\n",
    "\n",
    "#ridge train metrics\n",
    "r_train_score = ridge_cv.score(Z_train, y)\n",
    "mse_train = metrics.mean_squared_error(y, r_train_pred)\n",
    "rmse_train = metrics.mean_squared_error(y, r_train_pred, squared=False)\n",
    "exp_train_rmse = metrics.mean_squared_error(np.exp(y), np.exp(r_train_pred), squared=False)\n",
    "\n",
    "print(f'Ridge Alpha: {r_alpha}')\n",
    "print(f'Ridge Train R2: {r_train_score}')\n",
    "print(f'Train MSE: {mse_train}')\n",
    "print(f'Train RMSE: {rmse_train}')\n",
    "print(f'Train exp RMSE: {exp_train_rmse}')"
   ]
  },
  {
   "cell_type": "code",
   "execution_count": 37,
   "metadata": {},
   "outputs": [
    {
     "data": {
      "text/plain": [
       "178907.79275331183"
      ]
     },
     "execution_count": 37,
     "metadata": {},
     "output_type": "execute_result"
    }
   ],
   "source": [
    "model_pred_final = np.exp(ridge_cv.predict(Z_test))\n",
    "model_pred_final.mean()"
   ]
  },
  {
   "cell_type": "code",
   "execution_count": 38,
   "metadata": {},
   "outputs": [
    {
     "data": {
      "text/plain": [
       "178907.79275331195"
      ]
     },
     "execution_count": 38,
     "metadata": {},
     "output_type": "execute_result"
    }
   ],
   "source": [
    "prediction = pd.DataFrame({'Id': test_id['id'], 'SalePrice': model_pred_final})\n",
    "prediction['SalePrice'].mean()"
   ]
  },
  {
   "cell_type": "code",
   "execution_count": 39,
   "metadata": {},
   "outputs": [
    {
     "data": {
      "text/html": [
       "<div>\n",
       "<style scoped>\n",
       "    .dataframe tbody tr th:only-of-type {\n",
       "        vertical-align: middle;\n",
       "    }\n",
       "\n",
       "    .dataframe tbody tr th {\n",
       "        vertical-align: top;\n",
       "    }\n",
       "\n",
       "    .dataframe thead th {\n",
       "        text-align: right;\n",
       "    }\n",
       "</style>\n",
       "<table border=\"1\" class=\"dataframe\">\n",
       "  <thead>\n",
       "    <tr style=\"text-align: right;\">\n",
       "      <th></th>\n",
       "      <th>Id</th>\n",
       "      <th>SalePrice</th>\n",
       "    </tr>\n",
       "  </thead>\n",
       "  <tbody>\n",
       "    <tr>\n",
       "      <th>0</th>\n",
       "      <td>2658</td>\n",
       "      <td>111657.279340</td>\n",
       "    </tr>\n",
       "    <tr>\n",
       "      <th>1</th>\n",
       "      <td>2718</td>\n",
       "      <td>154981.547362</td>\n",
       "    </tr>\n",
       "    <tr>\n",
       "      <th>2</th>\n",
       "      <td>2414</td>\n",
       "      <td>184548.787407</td>\n",
       "    </tr>\n",
       "    <tr>\n",
       "      <th>3</th>\n",
       "      <td>1989</td>\n",
       "      <td>110752.382201</td>\n",
       "    </tr>\n",
       "    <tr>\n",
       "      <th>4</th>\n",
       "      <td>625</td>\n",
       "      <td>166988.174051</td>\n",
       "    </tr>\n",
       "  </tbody>\n",
       "</table>\n",
       "</div>"
      ],
      "text/plain": [
       "     Id      SalePrice\n",
       "0  2658  111657.279340\n",
       "1  2718  154981.547362\n",
       "2  2414  184548.787407\n",
       "3  1989  110752.382201\n",
       "4   625  166988.174051"
      ]
     },
     "execution_count": 39,
     "metadata": {},
     "output_type": "execute_result"
    }
   ],
   "source": [
    "prediction.head()"
   ]
  },
  {
   "cell_type": "code",
   "execution_count": 40,
   "metadata": {},
   "outputs": [],
   "source": [
    "prediction.to_csv('../datasets/test_prediction2_pearsonridge.csv', index=False)"
   ]
  }
 ],
 "metadata": {
  "kernelspec": {
   "display_name": "Python 3",
   "language": "python",
   "name": "python3"
  },
  "language_info": {
   "codemirror_mode": {
    "name": "ipython",
    "version": 3
   },
   "file_extension": ".py",
   "mimetype": "text/x-python",
   "name": "python",
   "nbconvert_exporter": "python",
   "pygments_lexer": "ipython3",
   "version": "3.8.5"
  }
 },
 "nbformat": 4,
 "nbformat_minor": 4
}
